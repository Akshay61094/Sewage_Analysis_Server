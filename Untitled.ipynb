{
 "cells": [
  {
   "cell_type": "code",
   "execution_count": 1,
   "metadata": {},
   "outputs": [],
   "source": [
    "import cv2\n",
    "import matplotlib.pyplot as plt\n",
    "import numpy as np\n",
    "from scipy.interpolate import spline\n",
    "import math\n",
    "from sklearn.cluster import KMeans\n",
    "from statistics import mean"
   ]
  },
  {
   "cell_type": "code",
   "execution_count": 2,
   "metadata": {},
   "outputs": [],
   "source": [
    "def get_org_gray_img(path,top_offset=40):\n",
    "    image = cv2.imread(path)\n",
    "    image=image[top_offset:,:,:]\n",
    "    img_gray = cv2.imread(path,0)\n",
    "    img_gray = img_gray[top_offset:]\n",
    "    return image,img_gray\n",
    "\n",
    "def convert_to_binary(img_gray,thresh=127):\n",
    "    ret,thresh = cv2.threshold(img_gray,thresh,255,cv2.THRESH_BINARY)\n",
    "    return thresh\n",
    "\n",
    "def blur_image(img_gray,kernel):\n",
    "    blur = cv2.medianBlur(img_gray,kernel)\n",
    "    return blur\n",
    "\n",
    "def clamp(n, minn, maxn):\n",
    "    return max(min(maxn, n), minn)\n",
    "\n",
    "def draw_bounding_box(final_mask):\n",
    "    np.set_printoptions(threshold=np.nan)\n",
    "    kernel = np.ones((11,11),np.uint8)\n",
    "    erosion = cv2.erode(final_mask,kernel,iterations = 1)\n",
    "    dilation = cv2.dilate(erosion,kernel,iterations = 1)\n",
    "    connectivity = 4\n",
    "    # Perform the operation\n",
    "    output = cv2.connectedComponentsWithStats(dilation, connectivity, cv2.CV_32S)\n",
    "    # Get the results\n",
    "    # The first cell is the number of labels\n",
    "    num_labels = output[0]\n",
    "    # The second cell is the label matrix\n",
    "    labels = output[1]\n",
    "    # The third cell is the stat matrix\n",
    "    stats = output[2]\n",
    "    # The fourth cell is the centroid matrix\n",
    "    centroids = output[3]\n",
    "    final_centroids=[]\n",
    "    for x1,y1 in centroids:\n",
    "        arr=np.nonzero(labels[int(y1)])\n",
    "        if(len(arr[0])>5):\n",
    "            final_centroids.append([x1,y1])   \n",
    "#     plt.scatter([final_centroids[i][0] for i in range(0,len(final_centroids))],[final_centroids[i][1] for i in range(0,len(final_centroids))])      \n",
    "    orig_copy=orig_img.copy()\n",
    "    offset=30\n",
    "    for i in range(len(final_centroids)):\n",
    "        cv2.rectangle(orig_copy,(int(final_centroids[i][0])-offset,int(final_centroids[i][1])-offset),(int(final_centroids[i][0])+offset,int(final_centroids[i][1])+offset),(0,255,0),3)\n",
    "    return orig_copy\n"
   ]
  },
  {
   "cell_type": "code",
   "execution_count": null,
   "metadata": {},
   "outputs": [],
   "source": [
    "orig_img,img_gray=get_org_gray_img('Capture3.JPG')\n",
    "plt.imshow(img_gray,cmap='gray')"
   ]
  },
  {
   "cell_type": "code",
   "execution_count": null,
   "metadata": {},
   "outputs": [],
   "source": [
    "binary_image=convert_to_binary(img_gray,160)\n",
    "plt.imshow(binary_image,cmap='gray')\n",
    "output=orig_img.copy()\n",
    "\n"
   ]
  },
  {
   "cell_type": "code",
   "execution_count": null,
   "metadata": {},
   "outputs": [],
   "source": [
    "output=orig_img.copy()\n",
    "shape1=output.shape\n",
    "l=[]\n",
    "from statistics import mean\n",
    "circles = cv2.HoughCircles(img_gray, cv2.HOUGH_GRADIENT,1.5, 10)\n",
    "x_l=[]\n",
    "y_l=[]\n",
    "r_l=[]\n",
    "if(circles is not None):\n",
    "    circles = np.round(circles[0, :]).astype(\"int\")\n",
    "    for (x, y, r) in circles:\n",
    "#         print(x)\n",
    "        r_l.append([r])\n",
    "        x_l.append(x)\n",
    "        y_l.append(y)\n",
    "        l.append([x,y])\n",
    "        \n",
    "else:\n",
    "    print(\"no\")\n",
    "    \n",
    "\n"
   ]
  },
  {
   "cell_type": "code",
   "execution_count": null,
   "metadata": {},
   "outputs": [],
   "source": [
    "output=orig_img.copy()\n",
    "circles = cv2.HoughCircles(img_gray, cv2.HOUGH_GRADIENT,1.4, 10 )\n",
    "if(circles is not None):\n",
    "    # ensure at least some circles were found\n",
    "    # convert the (x, y) coordinates and radius of the circles to integers\n",
    "    circles = np.round(circles[0, :]).astype(\"int\")\n",
    "    \n",
    "    # loop over the (x, y) coordinates and radius of the circles\n",
    "    for (x, y, r) in circles:\n",
    "        # draw the circle in the output image, then draw a rectangle\n",
    "        # corresponding to the center of the circle\n",
    "        cv2.circle(output, (x, y), r, (0, 255, 0), 4)\n",
    "        cv2.rectangle(output, (x - 5, y - 5), (x + 5, y + 5), (0, 128, 255), -1)\n",
    " \n",
    "\n",
    "    plt.imshow(output)\n",
    "else:\n",
    "    print(\"no\")\n",
    "\n"
   ]
  },
  {
   "cell_type": "code",
   "execution_count": null,
   "metadata": {},
   "outputs": [],
   "source": [
    "# x_l.sort()\n",
    "# print(x_l)\n",
    "# from itertools import groupby\n",
    "# [len(list(group)) for key, group in groupby(x_l)]\n"
   ]
  },
  {
   "cell_type": "code",
   "execution_count": null,
   "metadata": {},
   "outputs": [],
   "source": [
    "\n",
    "\n",
    "kmeans = KMeans(n_clusters=2, random_state=0).fit(l)\n",
    "cx,cy=kmeans.cluster_centers_[0]\n",
    "cx=int(cx)\n",
    "cy=int(cy)"
   ]
  },
  {
   "cell_type": "code",
   "execution_count": null,
   "metadata": {},
   "outputs": [],
   "source": [
    "from sklearn.cluster import KMeans\n",
    "\n",
    "kmeans = KMeans(n_clusters=2, random_state=0).fit(r_l)\n",
    "rc=kmeans.cluster_centers_[0]\n",
    "rc"
   ]
  },
  {
   "cell_type": "code",
   "execution_count": null,
   "metadata": {},
   "outputs": [],
   "source": [
    "print(cy)"
   ]
  },
  {
   "cell_type": "code",
   "execution_count": null,
   "metadata": {},
   "outputs": [],
   "source": [
    "output=orig_img.copy()\n",
    "cv2.circle(output, (cx, cy), int(rc[0]), (0, 255, 0), 4)\n",
    "cv2.rectangle(output, (cx - 5, cy - 5), (cx + 5, cy + 5), (0, 128, 255), -1)\n",
    "plt.imshow(output)"
   ]
  },
  {
   "cell_type": "code",
   "execution_count": 7,
   "metadata": {},
   "outputs": [],
   "source": [
    "glr=0\n",
    "glx=0\n",
    "gly=0\n",
    "zerocount=0;\n",
    "def process(orig_img):\n",
    "    global zerocount;\n",
    "    global glr;\n",
    "    global glx;\n",
    "    global gly;\n",
    "    img_gray= cv2.cvtColor(orig_img, cv2.COLOR_BGR2GRAY)\n",
    "    shape=orig_img.shape\n",
    "    output=orig_img.copy()\n",
    "    l=[]\n",
    "    x_l=[]\n",
    "    y_l=[]\n",
    "    r_l=[]\n",
    "    circles = cv2.HoughCircles(img_gray, cv2.HOUGH_GRADIENT,1.4, 10 ,param1=80,param2=100,minRadius=50,maxRadius=0)\n",
    "    flag=False;\n",
    "    if(circles is not None):\n",
    "\n",
    "        circles = np.round(circles[0, :]).astype(\"int\")\n",
    "        for (x, y, r) in circles:\n",
    "            if(((shape[0]//2)-100<x<(shape[0]//2)+100) and ((shape[1]//2)-100<y<(shape[1]//2)+100) ):\n",
    "\n",
    "                r_l.append([r])\n",
    "                x_l.append(x)\n",
    "                y_l.append(y)\n",
    "                l.append([x,y])\n",
    "                flag=True\n",
    "#                 print(l)\n",
    "        \n",
    "        if(flag==True):\n",
    "            zerocount=1;\n",
    "            if(len(l)>=2):\n",
    "                kmeans = KMeans(n_clusters=2, random_state=0).fit(l)\n",
    "                cx,cy=kmeans.cluster_centers_[0]\n",
    "                cx=int(cx)\n",
    "                cy=int(cy)\n",
    "                kmeans = KMeans(n_clusters=2, random_state=0).fit(r_l)\n",
    "                rc=kmeans.cluster_centers_[0]\n",
    "            else:\n",
    "                cx=int(l[0][0])\n",
    "                cy=int(l[0][1])\n",
    "                rc=r_l[0]\n",
    "            glr=rc\n",
    "            glx=cx\n",
    "            gly=cy\n",
    "            cv2.circle(output, (cx, cy), int(rc[0]), (0, 255, 0), 4)\n",
    "#             cv2.rectangle(output, (cx - 5, cy - 5), (cx + 5, cy + 5), (0, 128, 255), -1)\n",
    "        \n",
    "#     print(\"outside\",zerocount)    \n",
    "#     print(zerocount)\n",
    "    if(flag==True ):\n",
    "        return output\n",
    "    elif(0<zerocount<5):\n",
    "        zerocount+=1;\n",
    "        cv2.circle(output, (glx, gly), int(glr[0]), (0, 255, 0), 4)   \n",
    "        return output\n",
    "    else:\n",
    "        \n",
    "        return orig_img\n",
    "\n"
   ]
  },
  {
   "cell_type": "code",
   "execution_count": 8,
   "metadata": {},
   "outputs": [],
   "source": [
    "# img=process(cv2.imread('Capture2.JPG'))"
   ]
  },
  {
   "cell_type": "code",
   "execution_count": 9,
   "metadata": {
    "scrolled": true
   },
   "outputs": [],
   "source": [
    "# plt.imshow(img)"
   ]
  },
  {
   "cell_type": "code",
   "execution_count": 12,
   "metadata": {},
   "outputs": [
    {
     "name": "stdout",
     "output_type": "stream",
     "text": [
      "[MoviePy] >>>> Building video video_out_blk.mp4\n",
      "[MoviePy] Writing video video_out_blk.mp4\n"
     ]
    },
    {
     "name": "stderr",
     "output_type": "stream",
     "text": [
      "\n",
      "  0%|                                                                                           | 0/51 [00:00<?, ?it/s]\n",
      "  2%|█▋                                                                                 | 1/51 [00:04<03:38,  4.37s/it]\n",
      "  4%|███▎                                                                               | 2/51 [00:08<03:34,  4.37s/it]\n",
      "  6%|████▉                                                                              | 3/51 [00:13<03:32,  4.44s/it]\n",
      "  8%|██████▌                                                                            | 4/51 [00:18<03:32,  4.53s/it]\n",
      " 10%|████████▏                                                                          | 5/51 [00:22<03:29,  4.54s/it]\n",
      " 12%|█████████▊                                                                         | 6/51 [00:27<03:24,  4.54s/it]\n",
      " 14%|███████████▍                                                                       | 7/51 [00:31<03:20,  4.56s/it]\n",
      " 16%|█████████████                                                                      | 8/51 [00:35<03:11,  4.45s/it]\n",
      " 18%|██████████████▋                                                                    | 9/51 [00:40<03:05,  4.42s/it]\n",
      " 20%|████████████████                                                                  | 10/51 [00:44<02:57,  4.33s/it]\n",
      " 22%|█████████████████▋                                                                | 11/51 [00:48<02:47,  4.20s/it]\n",
      " 24%|███████████████████▎                                                              | 12/51 [00:52<02:38,  4.07s/it]\n",
      " 25%|████████████████████▉                                                             | 13/51 [00:55<02:29,  3.93s/it]\n",
      " 27%|██████████████████████▌                                                           | 14/51 [00:58<02:14,  3.65s/it]\n",
      " 29%|████████████████████████                                                          | 15/51 [00:58<01:34,  2.61s/it]\n",
      " 55%|█████████████████████████████████████████████                                     | 28/51 [00:59<00:42,  1.83s/it]\n",
      " 63%|███████████████████████████████████████████████████▍                              | 32/51 [00:59<00:24,  1.31s/it]\n",
      " 71%|█████████████████████████████████████████████████████████▉                        | 36/51 [01:02<00:17,  1.15s/it]\n",
      " 76%|██████████████████████████████████████████████████████████████▋                   | 39/51 [01:08<00:16,  1.41s/it]\n",
      " 80%|█████████████████████████████████████████████████████████████████▉                | 41/51 [01:13<00:16,  1.68s/it]\n",
      " 84%|█████████████████████████████████████████████████████████████████████▏            | 43/51 [01:18<00:15,  1.97s/it]\n",
      " 86%|██████████████████████████████████████████████████████████████████████▋           | 44/51 [01:21<00:15,  2.18s/it]\n",
      " 88%|████████████████████████████████████████████████████████████████████████▎         | 45/51 [01:23<00:14,  2.37s/it]\n",
      " 90%|█████████████████████████████████████████████████████████████████████████▉        | 46/51 [01:26<00:12,  2.56s/it]\n",
      " 92%|███████████████████████████████████████████████████████████████████████████▌      | 47/51 [01:29<00:10,  2.71s/it]\n",
      " 94%|█████████████████████████████████████████████████████████████████████████████▏    | 48/51 [01:32<00:08,  2.79s/it]\n",
      " 96%|██████████████████████████████████████████████████████████████████████████████▊   | 49/51 [01:35<00:05,  2.85s/it]\n",
      " 98%|████████████████████████████████████████████████████████████████████████████████▍ | 50/51 [01:38<00:02,  2.76s/it]\n"
     ]
    },
    {
     "name": "stdout",
     "output_type": "stream",
     "text": [
      "[MoviePy] Done.\n",
      "[MoviePy] >>>> Video ready: video_out_blk.mp4 \n",
      "\n"
     ]
    }
   ],
   "source": [
    "from moviepy.editor import VideoFileClip\n",
    "\n",
    "output_location = 'video_out_blk.mp4'\n",
    "video_input = VideoFileClip(\"blk.mp4\").subclip(0,2)\n",
    "\n",
    "video_output = video_input.fl_image(process) #NOTE: this function expects color images!!\n",
    "\n",
    "# #%time undist_clip.write_videofile(undist_output, audio=False)\n",
    "# print(\"anupam\")\n",
    "video_output.write_videofile(output_location, audio=False)\n",
    "video_input.reader.close()\n",
    "video_input.audio.reader.close_proc()\n",
    "video_output.reader.close()\n",
    "video_output.audio.reader.close_proc()"
   ]
  },
  {
   "cell_type": "code",
   "execution_count": null,
   "metadata": {},
   "outputs": [],
   "source": []
  },
  {
   "cell_type": "code",
   "execution_count": null,
   "metadata": {},
   "outputs": [],
   "source": []
  }
 ],
 "metadata": {
  "kernelspec": {
   "display_name": "Python [conda env:carnd-term1]",
   "language": "python",
   "name": "conda-env-carnd-term1-py"
  },
  "language_info": {
   "codemirror_mode": {
    "name": "ipython",
    "version": 3
   },
   "file_extension": ".py",
   "mimetype": "text/x-python",
   "name": "python",
   "nbconvert_exporter": "python",
   "pygments_lexer": "ipython3",
   "version": "3.5.2"
  },
  "widgets": {
   "state": {},
   "version": "1.1.2"
  }
 },
 "nbformat": 4,
 "nbformat_minor": 2
}
